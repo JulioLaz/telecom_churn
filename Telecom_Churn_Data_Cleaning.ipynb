{
  "nbformat": 4,
  "nbformat_minor": 0,
  "metadata": {
    "colab": {
      "provenance": [],
      "collapsed_sections": [
        "uSq0Ow4wukeh",
        "qfGmLEx3uo0G",
        "fMvJRzspuTof",
        "yZYnoJRouf_k",
        "J9vf2XtRRpl0",
        "J0NOzhwQvb7d",
        "i6Z3ZNBe1QUQ",
        "eWENM_Lh_fRV",
        "gswT4ZwsHauM",
        "W_FquNWbI36t"
      ],
      "include_colab_link": true
    },
    "kernelspec": {
      "name": "python3",
      "display_name": "Python 3"
    },
    "language_info": {
      "name": "python"
    }
  },
  "cells": [
    {
      "cell_type": "markdown",
      "metadata": {
        "id": "view-in-github",
        "colab_type": "text"
      },
      "source": [
        "<a href=\"https://colab.research.google.com/github/JulioLaz/telecom_churn/blob/main/Telecom_Churn_Data_Cleaning.ipynb\" target=\"_parent\"><img src=\"https://colab.research.google.com/assets/colab-badge.svg\" alt=\"Open In Colab\"/></a>"
      ]
    },
    {
      "cell_type": "markdown",
      "source": [
        "#**PROBLEMA DE NEGOCIO**\n",
        "\n",
        "\n",
        "---\n",
        "\n",
        "\n"
      ],
      "metadata": {
        "id": "hzRQ35N6mWsH"
      }
    },
    {
      "cell_type": "markdown",
      "source": [
        "##Una empresa de telecomunicaciones desea mejorar la retención de sus clientes, identificando aquellos que tienen más chances de abandonar el servicio (Churn). Como científico de datos, tu objetivo será limpiar y preparar un conjunto de datos para el entrenamiento de un modelo de Churn. A continuación, se presentan las preguntas clave que guiarán el proceso de limpieza de datos:"
      ],
      "metadata": {
        "id": "UGwFIqCdmavM"
      }
    },
    {
      "cell_type": "markdown",
      "source": [
        "### **Preguntas**\n",
        "\n",
        "1. ¿Qué insights podemos obtener del análisis exploratorio inicial del conjunto de datos?\n",
        "\n",
        "2. ¿Qué transformaciones básicas son necesarias para preparar los datos?\n",
        "\n",
        "3. ¿Cómo podemos identificar y tratar los datos duplicados y los valores nulos?\n",
        "\n",
        "4. ¿Cómo manejamos los outliers presentes en el dataset?\n",
        "\n",
        "5. ¿Qué técnicas aplicamos para procesar las variables categóricas?"
      ],
      "metadata": {
        "id": "bHlnxw5lm03j"
      }
    },
    {
      "cell_type": "markdown",
      "source": [
        "#**1. Configuración del Ambiente**\n",
        "\n",
        "\n",
        "---\n",
        "\n",
        "\n"
      ],
      "metadata": {
        "id": "uSq0Ow4wukeh"
      }
    },
    {
      "cell_type": "code",
      "source": [
        "import numpy as np\n",
        "import pandas as pd\n",
        "pd.set_option('display.max_columns', None)\n",
        "import seaborn as sns\n",
        "import matplotlib.pyplot as plt\n",
        "import json\n",
        "from sklearn.model_selection import train_test_split\n",
        "from sklearn.ensemble import RandomForestClassifier\n",
        "from sklearn.feature_selection import SelectKBest\n",
        "from sklearn.feature_selection import chi2\n",
        "from sklearn.feature_selection import RFECV\n",
        "from sklearn.feature_selection import RFE\n",
        "from sklearn.decomposition import PCA\n",
        "from sklearn.model_selection import cross_val_score\n",
        "global datos_churn"
      ],
      "metadata": {
        "id": "EX4-CKFTu2Zn"
      },
      "execution_count": 1,
      "outputs": []
    },
    {
      "cell_type": "markdown",
      "source": [
        "#**2. Obtención y Tratamiento de Datos**\n",
        "\n",
        "\n",
        "---\n",
        "\n",
        "\n"
      ],
      "metadata": {
        "id": "qfGmLEx3uo0G"
      }
    },
    {
      "cell_type": "markdown",
      "source": [
        "##**2.1 Cargando las bases de datos**"
      ],
      "metadata": {
        "id": "fMvJRzspuTof"
      }
    },
    {
      "cell_type": "code",
      "source": [
        "datos_churn = pd.read_json(\"/content/drive/MyDrive/Bootcamp-Alejo-projects/DS_Telecom_Churn-main/DS_Telecom_Churn-main/base_clientes.json\")\n",
        "# datos_churn = pd.read_json(\"base_clientes.json\")\n",
        "datos_churn.head()"
      ],
      "metadata": {
        "id": "BHBJivg4QrQc",
        "colab": {
          "base_uri": "https://localhost:8080/",
          "height": 466
        },
        "outputId": "4cf7d8d3-4968-48a5-bf49-f799b3edb9fa"
      },
      "execution_count": 3,
      "outputs": [
        {
          "output_type": "execute_result",
          "data": {
            "text/plain": [
              "   id_cliente Churn                                            cliente  \\\n",
              "0  0002-ORFBO    no  {'genero': 'femenino', 'anciano': 0, 'pareja':...   \n",
              "1  0003-MKNFE    no  {'genero': 'masculino', 'anciano': 0, 'pareja'...   \n",
              "2  0004-TLHLJ    si  {'genero': 'masculino', 'anciano': 0, 'pareja'...   \n",
              "3  0011-IGKFF    si  {'genero': 'masculino', 'anciano': 1, 'pareja'...   \n",
              "4  0013-EXCHZ    si  {'genero': 'femenino', 'anciano': 1, 'pareja':...   \n",
              "\n",
              "                                            telefono  \\\n",
              "0  {'servicio_telefono': 'si', 'varias_lineas': '...   \n",
              "1  {'servicio_telefono': 'si', 'varias_lineas': '...   \n",
              "2  {'servicio_telefono': 'si', 'varias_lineas': '...   \n",
              "3  {'servicio_telefono': 'si', 'varias_lineas': '...   \n",
              "4  {'servicio_telefono': 'si', 'varias_lineas': '...   \n",
              "\n",
              "                                            internet  \\\n",
              "0  {'servicio_internet': 'DSL', 'seguridad_online...   \n",
              "1  {'servicio_internet': 'DSL', 'seguridad_online...   \n",
              "2  {'servicio_internet': 'fibra optica', 'segurid...   \n",
              "3  {'servicio_internet': 'fibra optica', 'segurid...   \n",
              "4  {'servicio_internet': 'fibra optica', 'segurid...   \n",
              "\n",
              "                                              cuenta  \n",
              "0  {'contrato': None, 'facturacion_electronica': ...  \n",
              "1  {'contrato': 'mensual', 'facturacion_electroni...  \n",
              "2  {'contrato': 'mensual', 'facturacion_electroni...  \n",
              "3  {'contrato': 'mensual', 'facturacion_electroni...  \n",
              "4  {'contrato': 'mensual', 'facturacion_electroni...  "
            ],
            "text/html": [
              "\n",
              "  <div id=\"df-8d374b9f-e64c-4dfe-9ae4-26a0888310a5\" class=\"colab-df-container\">\n",
              "    <div>\n",
              "<style scoped>\n",
              "    .dataframe tbody tr th:only-of-type {\n",
              "        vertical-align: middle;\n",
              "    }\n",
              "\n",
              "    .dataframe tbody tr th {\n",
              "        vertical-align: top;\n",
              "    }\n",
              "\n",
              "    .dataframe thead th {\n",
              "        text-align: right;\n",
              "    }\n",
              "</style>\n",
              "<table border=\"1\" class=\"dataframe\">\n",
              "  <thead>\n",
              "    <tr style=\"text-align: right;\">\n",
              "      <th></th>\n",
              "      <th>id_cliente</th>\n",
              "      <th>Churn</th>\n",
              "      <th>cliente</th>\n",
              "      <th>telefono</th>\n",
              "      <th>internet</th>\n",
              "      <th>cuenta</th>\n",
              "    </tr>\n",
              "  </thead>\n",
              "  <tbody>\n",
              "    <tr>\n",
              "      <th>0</th>\n",
              "      <td>0002-ORFBO</td>\n",
              "      <td>no</td>\n",
              "      <td>{'genero': 'femenino', 'anciano': 0, 'pareja':...</td>\n",
              "      <td>{'servicio_telefono': 'si', 'varias_lineas': '...</td>\n",
              "      <td>{'servicio_internet': 'DSL', 'seguridad_online...</td>\n",
              "      <td>{'contrato': None, 'facturacion_electronica': ...</td>\n",
              "    </tr>\n",
              "    <tr>\n",
              "      <th>1</th>\n",
              "      <td>0003-MKNFE</td>\n",
              "      <td>no</td>\n",
              "      <td>{'genero': 'masculino', 'anciano': 0, 'pareja'...</td>\n",
              "      <td>{'servicio_telefono': 'si', 'varias_lineas': '...</td>\n",
              "      <td>{'servicio_internet': 'DSL', 'seguridad_online...</td>\n",
              "      <td>{'contrato': 'mensual', 'facturacion_electroni...</td>\n",
              "    </tr>\n",
              "    <tr>\n",
              "      <th>2</th>\n",
              "      <td>0004-TLHLJ</td>\n",
              "      <td>si</td>\n",
              "      <td>{'genero': 'masculino', 'anciano': 0, 'pareja'...</td>\n",
              "      <td>{'servicio_telefono': 'si', 'varias_lineas': '...</td>\n",
              "      <td>{'servicio_internet': 'fibra optica', 'segurid...</td>\n",
              "      <td>{'contrato': 'mensual', 'facturacion_electroni...</td>\n",
              "    </tr>\n",
              "    <tr>\n",
              "      <th>3</th>\n",
              "      <td>0011-IGKFF</td>\n",
              "      <td>si</td>\n",
              "      <td>{'genero': 'masculino', 'anciano': 1, 'pareja'...</td>\n",
              "      <td>{'servicio_telefono': 'si', 'varias_lineas': '...</td>\n",
              "      <td>{'servicio_internet': 'fibra optica', 'segurid...</td>\n",
              "      <td>{'contrato': 'mensual', 'facturacion_electroni...</td>\n",
              "    </tr>\n",
              "    <tr>\n",
              "      <th>4</th>\n",
              "      <td>0013-EXCHZ</td>\n",
              "      <td>si</td>\n",
              "      <td>{'genero': 'femenino', 'anciano': 1, 'pareja':...</td>\n",
              "      <td>{'servicio_telefono': 'si', 'varias_lineas': '...</td>\n",
              "      <td>{'servicio_internet': 'fibra optica', 'segurid...</td>\n",
              "      <td>{'contrato': 'mensual', 'facturacion_electroni...</td>\n",
              "    </tr>\n",
              "  </tbody>\n",
              "</table>\n",
              "</div>\n",
              "    <div class=\"colab-df-buttons\">\n",
              "\n",
              "  <div class=\"colab-df-container\">\n",
              "    <button class=\"colab-df-convert\" onclick=\"convertToInteractive('df-8d374b9f-e64c-4dfe-9ae4-26a0888310a5')\"\n",
              "            title=\"Convert this dataframe to an interactive table.\"\n",
              "            style=\"display:none;\">\n",
              "\n",
              "  <svg xmlns=\"http://www.w3.org/2000/svg\" height=\"24px\" viewBox=\"0 -960 960 960\">\n",
              "    <path d=\"M120-120v-720h720v720H120Zm60-500h600v-160H180v160Zm220 220h160v-160H400v160Zm0 220h160v-160H400v160ZM180-400h160v-160H180v160Zm440 0h160v-160H620v160ZM180-180h160v-160H180v160Zm440 0h160v-160H620v160Z\"/>\n",
              "  </svg>\n",
              "    </button>\n",
              "\n",
              "  <style>\n",
              "    .colab-df-container {\n",
              "      display:flex;\n",
              "      gap: 12px;\n",
              "    }\n",
              "\n",
              "    .colab-df-convert {\n",
              "      background-color: #E8F0FE;\n",
              "      border: none;\n",
              "      border-radius: 50%;\n",
              "      cursor: pointer;\n",
              "      display: none;\n",
              "      fill: #1967D2;\n",
              "      height: 32px;\n",
              "      padding: 0 0 0 0;\n",
              "      width: 32px;\n",
              "    }\n",
              "\n",
              "    .colab-df-convert:hover {\n",
              "      background-color: #E2EBFA;\n",
              "      box-shadow: 0px 1px 2px rgba(60, 64, 67, 0.3), 0px 1px 3px 1px rgba(60, 64, 67, 0.15);\n",
              "      fill: #174EA6;\n",
              "    }\n",
              "\n",
              "    .colab-df-buttons div {\n",
              "      margin-bottom: 4px;\n",
              "    }\n",
              "\n",
              "    [theme=dark] .colab-df-convert {\n",
              "      background-color: #3B4455;\n",
              "      fill: #D2E3FC;\n",
              "    }\n",
              "\n",
              "    [theme=dark] .colab-df-convert:hover {\n",
              "      background-color: #434B5C;\n",
              "      box-shadow: 0px 1px 3px 1px rgba(0, 0, 0, 0.15);\n",
              "      filter: drop-shadow(0px 1px 2px rgba(0, 0, 0, 0.3));\n",
              "      fill: #FFFFFF;\n",
              "    }\n",
              "  </style>\n",
              "\n",
              "    <script>\n",
              "      const buttonEl =\n",
              "        document.querySelector('#df-8d374b9f-e64c-4dfe-9ae4-26a0888310a5 button.colab-df-convert');\n",
              "      buttonEl.style.display =\n",
              "        google.colab.kernel.accessAllowed ? 'block' : 'none';\n",
              "\n",
              "      async function convertToInteractive(key) {\n",
              "        const element = document.querySelector('#df-8d374b9f-e64c-4dfe-9ae4-26a0888310a5');\n",
              "        const dataTable =\n",
              "          await google.colab.kernel.invokeFunction('convertToInteractive',\n",
              "                                                    [key], {});\n",
              "        if (!dataTable) return;\n",
              "\n",
              "        const docLinkHtml = 'Like what you see? Visit the ' +\n",
              "          '<a target=\"_blank\" href=https://colab.research.google.com/notebooks/data_table.ipynb>data table notebook</a>'\n",
              "          + ' to learn more about interactive tables.';\n",
              "        element.innerHTML = '';\n",
              "        dataTable['output_type'] = 'display_data';\n",
              "        await google.colab.output.renderOutput(dataTable, element);\n",
              "        const docLink = document.createElement('div');\n",
              "        docLink.innerHTML = docLinkHtml;\n",
              "        element.appendChild(docLink);\n",
              "      }\n",
              "    </script>\n",
              "  </div>\n",
              "\n",
              "\n",
              "<div id=\"df-b9c0c2e6-71aa-4df8-b7f7-47b1f12c7d7f\">\n",
              "  <button class=\"colab-df-quickchart\" onclick=\"quickchart('df-b9c0c2e6-71aa-4df8-b7f7-47b1f12c7d7f')\"\n",
              "            title=\"Suggest charts\"\n",
              "            style=\"display:none;\">\n",
              "\n",
              "<svg xmlns=\"http://www.w3.org/2000/svg\" height=\"24px\"viewBox=\"0 0 24 24\"\n",
              "     width=\"24px\">\n",
              "    <g>\n",
              "        <path d=\"M19 3H5c-1.1 0-2 .9-2 2v14c0 1.1.9 2 2 2h14c1.1 0 2-.9 2-2V5c0-1.1-.9-2-2-2zM9 17H7v-7h2v7zm4 0h-2V7h2v10zm4 0h-2v-4h2v4z\"/>\n",
              "    </g>\n",
              "</svg>\n",
              "  </button>\n",
              "\n",
              "<style>\n",
              "  .colab-df-quickchart {\n",
              "      --bg-color: #E8F0FE;\n",
              "      --fill-color: #1967D2;\n",
              "      --hover-bg-color: #E2EBFA;\n",
              "      --hover-fill-color: #174EA6;\n",
              "      --disabled-fill-color: #AAA;\n",
              "      --disabled-bg-color: #DDD;\n",
              "  }\n",
              "\n",
              "  [theme=dark] .colab-df-quickchart {\n",
              "      --bg-color: #3B4455;\n",
              "      --fill-color: #D2E3FC;\n",
              "      --hover-bg-color: #434B5C;\n",
              "      --hover-fill-color: #FFFFFF;\n",
              "      --disabled-bg-color: #3B4455;\n",
              "      --disabled-fill-color: #666;\n",
              "  }\n",
              "\n",
              "  .colab-df-quickchart {\n",
              "    background-color: var(--bg-color);\n",
              "    border: none;\n",
              "    border-radius: 50%;\n",
              "    cursor: pointer;\n",
              "    display: none;\n",
              "    fill: var(--fill-color);\n",
              "    height: 32px;\n",
              "    padding: 0;\n",
              "    width: 32px;\n",
              "  }\n",
              "\n",
              "  .colab-df-quickchart:hover {\n",
              "    background-color: var(--hover-bg-color);\n",
              "    box-shadow: 0 1px 2px rgba(60, 64, 67, 0.3), 0 1px 3px 1px rgba(60, 64, 67, 0.15);\n",
              "    fill: var(--button-hover-fill-color);\n",
              "  }\n",
              "\n",
              "  .colab-df-quickchart-complete:disabled,\n",
              "  .colab-df-quickchart-complete:disabled:hover {\n",
              "    background-color: var(--disabled-bg-color);\n",
              "    fill: var(--disabled-fill-color);\n",
              "    box-shadow: none;\n",
              "  }\n",
              "\n",
              "  .colab-df-spinner {\n",
              "    border: 2px solid var(--fill-color);\n",
              "    border-color: transparent;\n",
              "    border-bottom-color: var(--fill-color);\n",
              "    animation:\n",
              "      spin 1s steps(1) infinite;\n",
              "  }\n",
              "\n",
              "  @keyframes spin {\n",
              "    0% {\n",
              "      border-color: transparent;\n",
              "      border-bottom-color: var(--fill-color);\n",
              "      border-left-color: var(--fill-color);\n",
              "    }\n",
              "    20% {\n",
              "      border-color: transparent;\n",
              "      border-left-color: var(--fill-color);\n",
              "      border-top-color: var(--fill-color);\n",
              "    }\n",
              "    30% {\n",
              "      border-color: transparent;\n",
              "      border-left-color: var(--fill-color);\n",
              "      border-top-color: var(--fill-color);\n",
              "      border-right-color: var(--fill-color);\n",
              "    }\n",
              "    40% {\n",
              "      border-color: transparent;\n",
              "      border-right-color: var(--fill-color);\n",
              "      border-top-color: var(--fill-color);\n",
              "    }\n",
              "    60% {\n",
              "      border-color: transparent;\n",
              "      border-right-color: var(--fill-color);\n",
              "    }\n",
              "    80% {\n",
              "      border-color: transparent;\n",
              "      border-right-color: var(--fill-color);\n",
              "      border-bottom-color: var(--fill-color);\n",
              "    }\n",
              "    90% {\n",
              "      border-color: transparent;\n",
              "      border-bottom-color: var(--fill-color);\n",
              "    }\n",
              "  }\n",
              "</style>\n",
              "\n",
              "  <script>\n",
              "    async function quickchart(key) {\n",
              "      const quickchartButtonEl =\n",
              "        document.querySelector('#' + key + ' button');\n",
              "      quickchartButtonEl.disabled = true;  // To prevent multiple clicks.\n",
              "      quickchartButtonEl.classList.add('colab-df-spinner');\n",
              "      try {\n",
              "        const charts = await google.colab.kernel.invokeFunction(\n",
              "            'suggestCharts', [key], {});\n",
              "      } catch (error) {\n",
              "        console.error('Error during call to suggestCharts:', error);\n",
              "      }\n",
              "      quickchartButtonEl.classList.remove('colab-df-spinner');\n",
              "      quickchartButtonEl.classList.add('colab-df-quickchart-complete');\n",
              "    }\n",
              "    (() => {\n",
              "      let quickchartButtonEl =\n",
              "        document.querySelector('#df-b9c0c2e6-71aa-4df8-b7f7-47b1f12c7d7f button');\n",
              "      quickchartButtonEl.style.display =\n",
              "        google.colab.kernel.accessAllowed ? 'block' : 'none';\n",
              "    })();\n",
              "  </script>\n",
              "</div>\n",
              "\n",
              "    </div>\n",
              "  </div>\n"
            ],
            "application/vnd.google.colaboratory.intrinsic+json": {
              "type": "dataframe",
              "variable_name": "datos_churn",
              "summary": "{\n  \"name\": \"datos_churn\",\n  \"rows\": 7344,\n  \"fields\": [\n    {\n      \"column\": \"id_cliente\",\n      \"properties\": {\n        \"dtype\": \"string\",\n        \"num_unique_values\": 7267,\n        \"samples\": [\n          \"2038-OEQZH\",\n          \"6322-HRPFA\",\n          \"3969-JQABI\"\n        ],\n        \"semantic_type\": \"\",\n        \"description\": \"\"\n      }\n    },\n    {\n      \"column\": \"Churn\",\n      \"properties\": {\n        \"dtype\": \"category\",\n        \"num_unique_values\": 3,\n        \"samples\": [\n          \"no\",\n          \"si\",\n          \"\"\n        ],\n        \"semantic_type\": \"\",\n        \"description\": \"\"\n      }\n    },\n    {\n      \"column\": \"cliente\",\n      \"properties\": {\n        \"dtype\": \"object\",\n        \"semantic_type\": \"\",\n        \"description\": \"\"\n      }\n    },\n    {\n      \"column\": \"telefono\",\n      \"properties\": {\n        \"dtype\": \"object\",\n        \"semantic_type\": \"\",\n        \"description\": \"\"\n      }\n    },\n    {\n      \"column\": \"internet\",\n      \"properties\": {\n        \"dtype\": \"object\",\n        \"semantic_type\": \"\",\n        \"description\": \"\"\n      }\n    },\n    {\n      \"column\": \"cuenta\",\n      \"properties\": {\n        \"dtype\": \"object\",\n        \"semantic_type\": \"\",\n        \"description\": \"\"\n      }\n    }\n  ]\n}"
            }
          },
          "metadata": {},
          "execution_count": 3
        }
      ]
    },
    {
      "cell_type": "code",
      "source": [
        "from google.colab import drive\n",
        "drive.mount('/content/drive')"
      ],
      "metadata": {
        "colab": {
          "base_uri": "https://localhost:8080/"
        },
        "id": "RmwRdO0ejktG",
        "outputId": "9e1184d7-537f-4226-c3bd-a4b70322d41c"
      },
      "execution_count": 2,
      "outputs": [
        {
          "output_type": "stream",
          "name": "stdout",
          "text": [
            "Mounted at /content/drive\n"
          ]
        }
      ]
    },
    {
      "cell_type": "code",
      "source": [
        "datos_churn.info()"
      ],
      "metadata": {
        "id": "LAGV5ffRpul8"
      },
      "execution_count": null,
      "outputs": []
    },
    {
      "cell_type": "code",
      "source": [
        "def lectura_datos():\n",
        "  global datos_churn\n",
        "  #Tu código aquí"
      ],
      "metadata": {
        "id": "BvydtftJqLKv"
      },
      "execution_count": null,
      "outputs": []
    },
    {
      "cell_type": "code",
      "source": [
        "lectura_datos()\n",
        "datos_churn.head()"
      ],
      "metadata": {
        "id": "mrSaTdMArKSK"
      },
      "execution_count": null,
      "outputs": []
    },
    {
      "cell_type": "markdown",
      "source": [
        "##**2.2 Tratamiento de datos**"
      ],
      "metadata": {
        "id": "yZYnoJRouf_k"
      }
    },
    {
      "cell_type": "code",
      "source": [
        "with open('/content/Diccionario.txt', 'r', encoding='utf-8') as file:\n",
        "    contenido = file.read()\n",
        "print(contenido)"
      ],
      "metadata": {
        "id": "syRfgo9eujxN"
      },
      "execution_count": null,
      "outputs": []
    },
    {
      "cell_type": "code",
      "source": [
        "datos_churn.info()"
      ],
      "metadata": {
        "id": "3SE_4vqdrbtd"
      },
      "execution_count": null,
      "outputs": []
    },
    {
      "cell_type": "code",
      "source": [
        "def preprocesamiento():\n",
        "  global datos_churn\n",
        "  #Tu código aquí"
      ],
      "metadata": {
        "id": "XiJUX2VA2IJW"
      },
      "execution_count": null,
      "outputs": []
    },
    {
      "cell_type": "code",
      "source": [
        "preprocesamiento()\n",
        "datos_churn.info()"
      ],
      "metadata": {
        "id": "0mKRPtp5GmOj"
      },
      "execution_count": null,
      "outputs": []
    },
    {
      "cell_type": "markdown",
      "source": [
        "##**2.3 Normalizacion de datos**"
      ],
      "metadata": {
        "id": "J9vf2XtRRpl0"
      }
    },
    {
      "cell_type": "code",
      "source": [
        "for col in datos_churn.columns:\n",
        "    print(f\"Columna: {col}\")\n",
        "    print(datos_churn[col].unique())\n",
        "    print(\"-\" * 30)"
      ],
      "metadata": {
        "id": "Ra50g_EgRsV3"
      },
      "execution_count": null,
      "outputs": []
    },
    {
      "cell_type": "code",
      "source": [
        "def normalizacion():\n",
        "  global datos_churn\n",
        "  #Tu código aquí"
      ],
      "metadata": {
        "id": "pwNyedOzVcTk"
      },
      "execution_count": null,
      "outputs": []
    },
    {
      "cell_type": "code",
      "source": [
        "normalizacion()\n",
        "datos_churn.head()"
      ],
      "metadata": {
        "id": "xka2HArMXB0Z"
      },
      "execution_count": null,
      "outputs": []
    },
    {
      "cell_type": "code",
      "source": [
        "datos_churn.info()"
      ],
      "metadata": {
        "id": "stDuLF5HX7Ut"
      },
      "execution_count": null,
      "outputs": []
    },
    {
      "cell_type": "markdown",
      "source": [
        "#**3. Modelo Random Forest**\n",
        "\n",
        "\n",
        "---\n"
      ],
      "metadata": {
        "id": "J0NOzhwQvb7d"
      }
    },
    {
      "cell_type": "code",
      "source": [
        "y = datos_churn['Churn']\n",
        "x = datos_churn.drop(columns='Churn')\n",
        "train_x, test_x, train_y, test_y = train_test_split(x, y, test_size=0.3, random_state = 50)"
      ],
      "metadata": {
        "id": "WqIW_6Frkkbn"
      },
      "execution_count": null,
      "outputs": []
    },
    {
      "cell_type": "code",
      "source": [
        "def pronosticar(train_x, train_y):\n",
        "  model = RandomForestClassifier(random_state=50)\n",
        "  model.fit(train_x, train_y)\n",
        "  return model"
      ],
      "metadata": {
        "id": "uzE3jMjZkEu2"
      },
      "execution_count": null,
      "outputs": []
    },
    {
      "cell_type": "code",
      "source": [
        "model = pronosticar(train_x, train_y)\n",
        "model.score(test_x, test_y)"
      ],
      "metadata": {
        "id": "6Fn6fluQlyL1"
      },
      "execution_count": null,
      "outputs": []
    },
    {
      "cell_type": "markdown",
      "source": [
        "#**4. Reducción de Dimensionalidad**\n",
        "\n",
        "\n",
        "---\n"
      ],
      "metadata": {
        "id": "i6Z3ZNBe1QUQ"
      }
    },
    {
      "cell_type": "markdown",
      "source": [
        "##**4.1 Métodos Gráficos**"
      ],
      "metadata": {
        "id": "eWENM_Lh_fRV"
      }
    },
    {
      "cell_type": "code",
      "source": [
        "def diagrama_violin(df, inicio, fin):\n",
        "    #Tu código aquí\n",
        "\n",
        "def diagrama_puntos(df, inicio, fin):\n",
        "    #Tu código aquí\n",
        "\n",
        "def mapa_calor(df):\n",
        "    #Tu código aquí"
      ],
      "metadata": {
        "id": "rWnXtKx7nCgx"
      },
      "execution_count": null,
      "outputs": []
    },
    {
      "cell_type": "code",
      "source": [
        "diagrama_violin(datos_churn, 1, 30)"
      ],
      "metadata": {
        "id": "q9AIHt2s1yLp"
      },
      "execution_count": null,
      "outputs": []
    },
    {
      "cell_type": "code",
      "source": [
        "diagrama_puntos(datos_churn, 1, 30)"
      ],
      "metadata": {
        "id": "T3JyHfJZylS3"
      },
      "execution_count": null,
      "outputs": []
    },
    {
      "cell_type": "code",
      "source": [
        "datos_churn.groupby('Churn')[\"telefono.varias_lineas_sin servicio de telefono\"].value_counts(normalize=True)"
      ],
      "metadata": {
        "id": "bdClw3ALz3d3"
      },
      "execution_count": null,
      "outputs": []
    },
    {
      "cell_type": "code",
      "source": [
        "train_x = train_x.drop(columns=[\"telefono.varias_lineas_sin servicio de telefono\"])\n",
        "test_x = test_x.drop(columns=[\"telefono.varias_lineas_sin servicio de telefono\"])\n",
        "model = pronosticar(train_x, train_y)\n",
        "model.score(test_x, test_y)"
      ],
      "metadata": {
        "id": "Qg-jXv2eG8Pr"
      },
      "execution_count": null,
      "outputs": []
    },
    {
      "cell_type": "markdown",
      "source": [
        "##**4.2 Mapa de Calor**"
      ],
      "metadata": {
        "id": "gswT4ZwsHauM"
      }
    },
    {
      "cell_type": "code",
      "source": [
        "matriz = mapa_calor(datos_churn)"
      ],
      "metadata": {
        "id": "0tYfZHOr27NQ"
      },
      "execution_count": null,
      "outputs": []
    },
    {
      "cell_type": "code",
      "source": [
        "matriz2 = matriz>0.99\n",
        "matriz2 = matriz2.sum()\n",
        "matriz2[matriz2>1]"
      ],
      "metadata": {
        "id": "xeo79fScAKAb"
      },
      "execution_count": null,
      "outputs": []
    },
    {
      "cell_type": "code",
      "source": [
        "def identificar_variables(base):\n",
        "  #Tu código aquí"
      ],
      "metadata": {
        "id": "gnjPTfiJFw9A"
      },
      "execution_count": null,
      "outputs": []
    },
    {
      "cell_type": "code",
      "source": [
        "identificar_variables(matriz2[matriz2>1])"
      ],
      "metadata": {
        "id": "7eEqqGajIQak"
      },
      "execution_count": null,
      "outputs": []
    },
    {
      "cell_type": "code",
      "source": [
        "train_x = train_x.drop(columns=['internet.seguridad_online_sin servicio de internet', 'internet.peliculas_streaming_sin servicio de internet', 'internet.backup_online_sin servicio de internet', 'internet.tv_streaming_sin servicio de internet', 'internet.soporte_tecnico_sin servicio de internet', 'internet.proteccion_dispositivo_sin servicio de internet','cuenta.contrato_un año'])\n",
        "test_x = test_x.drop(columns=['internet.seguridad_online_sin servicio de internet', 'internet.peliculas_streaming_sin servicio de internet', 'internet.backup_online_sin servicio de internet', 'internet.tv_streaming_sin servicio de internet', 'internet.soporte_tecnico_sin servicio de internet', 'internet.proteccion_dispositivo_sin servicio de internet','cuenta.contrato_un año'])\n",
        "model = pronosticar(train_x, train_y)\n",
        "model.score(test_x, test_y)"
      ],
      "metadata": {
        "id": "Uj5tFqVZHprs"
      },
      "execution_count": null,
      "outputs": []
    },
    {
      "cell_type": "markdown",
      "source": [
        "##**4.3 Feature Importances**"
      ],
      "metadata": {
        "id": "W_FquNWbI36t"
      }
    },
    {
      "cell_type": "code",
      "source": [
        "def pronosticar_kbest(train_x, test_x, train_y, test_y):\n",
        "  #Tu código aquí"
      ],
      "metadata": {
        "id": "p6M6a0IoL3Zp"
      },
      "execution_count": null,
      "outputs": []
    },
    {
      "cell_type": "code",
      "source": [
        "pronosticar_kbest(train_x, test_x, train_y, test_y)"
      ],
      "metadata": {
        "id": "xrm1P-hPMfly"
      },
      "execution_count": null,
      "outputs": []
    },
    {
      "cell_type": "code",
      "source": [
        "def pronosticar_RFE(train_x, test_x, train_y, test_y):\n",
        "    #Tu código aquí"
      ],
      "metadata": {
        "id": "_tycvFeCVcBa"
      },
      "execution_count": null,
      "outputs": []
    },
    {
      "cell_type": "code",
      "source": [
        "pronosticar_RFE(train_x, test_x, train_y, test_y)"
      ],
      "metadata": {
        "id": "wnprZVBGWfoH"
      },
      "execution_count": null,
      "outputs": []
    },
    {
      "cell_type": "code",
      "source": [
        "def pronosticar_RFECV(train_x, test_x, train_y, test_y):\n",
        "    #Tu código aquí"
      ],
      "metadata": {
        "id": "FPqip9goOBCQ"
      },
      "execution_count": null,
      "outputs": []
    },
    {
      "cell_type": "code",
      "source": [
        "pronosticar_RFECV(train_x, test_x, train_y, test_y)"
      ],
      "metadata": {
        "id": "GyCz_0t6Ou9A"
      },
      "execution_count": null,
      "outputs": []
    },
    {
      "cell_type": "code",
      "source": [
        "def pronosticar_PCA(train_x, test_x, train_y, test_y):\n",
        "    #Tu código aquí"
      ],
      "metadata": {
        "id": "Y8MLKgdBR6cK"
      },
      "execution_count": null,
      "outputs": []
    },
    {
      "cell_type": "code",
      "source": [
        "pronosticar_PCA(train_x, test_x, train_y, test_y)"
      ],
      "metadata": {
        "id": "LaK7pqZGUgTR"
      },
      "execution_count": null,
      "outputs": []
    }
  ]
}