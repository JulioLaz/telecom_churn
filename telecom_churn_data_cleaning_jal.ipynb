{
  "cells": [
    {
      "cell_type": "markdown",
      "metadata": {
        "id": "view-in-github",
        "colab_type": "text"
      },
      "source": [
        "<a href=\"https://colab.research.google.com/github/JulioLaz/telecom_churn/blob/row/telecom_churn_data_cleaning_jal.ipynb\" target=\"_parent\"><img src=\"https://colab.research.google.com/assets/colab-badge.svg\" alt=\"Open In Colab\"/></a>"
      ]
    },
    {
      "cell_type": "code",
      "execution_count": 1,
      "metadata": {
        "id": "c_MMK2mXzbzr"
      },
      "outputs": [],
      "source": [
        "import pandas as pd\n",
        "import numpy as np\n",
        "import requests\n",
        "from sklearn.model_selection import train_test_split\n",
        "from sklearn.ensemble import RandomForestClassifier\n",
        "from sklearn.preprocessing import KBinsDiscretizer\n",
        "from sklearn.metrics import accuracy_score, classification_report, confusion_matrix\n",
        "global datos_churn"
      ]
    },
    {
      "cell_type": "code",
      "source": [
        "url='https://raw.githubusercontent.com/JulioLaz/telecom_churn/refs/heads/main/base_clientes.json'\n",
        "def lectura_datos():\n",
        "    global datos_churn\n",
        "    response = requests.get(url)\n",
        "    if response.status_code == 200:\n",
        "        json_bruto = response.json()\n",
        "        datos_churn = pd.json_normalize(json_bruto)\n",
        "        return datos_churn\n",
        "    else:\n",
        "        print(f\"Error: No se pudo acceder al archivo. Código de estado: {response.status_code}\")\n",
        "        return None"
      ],
      "metadata": {
        "id": "_tmS7dCYnorz"
      },
      "execution_count": 2,
      "outputs": []
    },
    {
      "cell_type": "code",
      "execution_count": 3,
      "metadata": {
        "id": "ujgNEQP7DpKh"
      },
      "outputs": [],
      "source": [
        "def tratamiento_datos():\n",
        "    global datos_churn\n",
        "    df= datos_churn.copy()\n",
        "    df.drop('id_cliente', axis=1, inplace=True)\n",
        "    df['cuenta.cobros.Total'] = df['cuenta.cobros.Total'].replace(' ', np.nan).astype(float)\n",
        "    df = df[df['Churn'].isin(['si', 'no'])]\n",
        "\n",
        "    # Calcular la moda para cuenta.contrato:\n",
        "    contrato_mode = df['cuenta.contrato'].mode()[0]\n",
        "    df.loc[:, 'cuenta.contrato'] = df['cuenta.contrato'].fillna(contrato_mode)\n",
        "\n",
        "    # Calcular los cuartiles y el rango intercuartil y aplicar rango:\n",
        "    Q1,Q3 = df['cliente.tiempo_servicio'].quantile(0.25),df['cliente.tiempo_servicio'].quantile(0.75)\n",
        "    df=df[df['cliente.tiempo_servicio']<(Q3 + 1.5 * (Q3 - Q1))]\n",
        "    df=df[df['cliente.tiempo_servicio']>=0]\n",
        "\n",
        "    # Calcular la mediana de 'cuenta.cobros.mensual'\n",
        "    median_cobros_mensual = df['cuenta.cobros.mensual'].median()\n",
        "    df['cuenta.cobros.mensual'].fillna(median_cobros_mensual, inplace=True)\n",
        "\n",
        "    # llenar col cuenta.cobros.Total con nulos:\n",
        "    def calcular_cobros_total(row):\n",
        "      if pd.isnull(row['cuenta.cobros.Total']):\n",
        "        if row['cliente.tiempo_servicio'] == 0:\n",
        "          return row['cuenta.cobros.mensual']\n",
        "        else:\n",
        "          return row['cuenta.cobros.mensual'] * row['cliente.tiempo_servicio']\n",
        "      else:\n",
        "        return row['cuenta.cobros.Total']\n",
        "    df['cuenta.cobros.Total'] = df.apply(calcular_cobros_total, axis=1)\n",
        "\n",
        "    # Calcular la moda de 'cuenta.facturacion_electronica'\n",
        "    moda_facturacion_electronica = df['cuenta.facturacion_electronica'].mode()[0]\n",
        "    df['cuenta.facturacion_electronica'].fillna(moda_facturacion_electronica, inplace=True)\n",
        "\n",
        "    # Calcular la moda de 'cuenta.metodo_pago'\n",
        "    moda_metodo_pago = df['cuenta.metodo_pago'].mode()[0]\n",
        "    df['cuenta.metodo_pago'].fillna(moda_metodo_pago, inplace=True)\n",
        "\n",
        "    # Mapear la columna 'churn' a valores booleanos:\n",
        "    df['Churn'] = df['Churn'].map({'si': True, 'no': False})\n",
        "    df['Churn'] = df['Churn'].astype(int)\n",
        "\n",
        "    # Aplicar dummies a las col categoricas:\n",
        "    categorical_columns = df.select_dtypes(include=['object']).columns\n",
        "    df = pd.get_dummies(df, columns=categorical_columns, drop_first=True)\n",
        "\n",
        "    # hacer discretas las columnas continuaas:\n",
        "    columnas_discretas = ['cuenta.cobros.Total', 'cuenta.cobros.mensual']\n",
        "    columnas_discretas_time = ['cliente.tiempo_servicio']\n",
        "    est = KBinsDiscretizer(n_bins=40, encode='ordinal', strategy='quantile') #discretizar las columnas\n",
        "    est_time = KBinsDiscretizer(n_bins=3, encode='ordinal', strategy='quantile') #discretizar las columnas\n",
        "    df[columnas_discretas] = est.fit_transform(df[columnas_discretas])\n",
        "    df['cliente.tiempo_servicio'] = est_time.fit_transform(df[['cliente.tiempo_servicio']])\n",
        "    datos_churn=df"
      ]
    },
    {
      "cell_type": "code",
      "execution_count": 7,
      "metadata": {
        "id": "0mtlTzSvMbJC"
      },
      "outputs": [],
      "source": [
        "def rf_model():\n",
        "    x = datos_churn.drop('Churn', axis=1)\n",
        "    y = datos_churn['Churn']\n",
        "    train_x, test_x, train_y, test_y = train_test_split(x, y, test_size=0.3, random_state = 50)\n",
        "    model = RandomForestClassifier(random_state=50)\n",
        "    model.fit(train_x, train_y)\n",
        "    y_pred = model.predict(test_x)\n",
        "    accuracy = accuracy_score(test_y, y_pred)\n",
        "    print(\"Precisión:\", round(accuracy,4))"
      ]
    },
    {
      "cell_type": "code",
      "source": [
        "lectura_datos()\n",
        "tratamiento_datos()\n",
        "rf_model()"
      ],
      "metadata": {
        "colab": {
          "base_uri": "https://localhost:8080/"
        },
        "id": "K5-KD8D_GjRK",
        "outputId": "6ad3d5f0-9089-491f-aa3e-30622a5d09cf"
      },
      "execution_count": 8,
      "outputs": [
        {
          "output_type": "stream",
          "name": "stdout",
          "text": [
            "Precisión: 0.8066\n"
          ]
        }
      ]
    }
  ],
  "metadata": {
    "colab": {
      "provenance": [],
      "include_colab_link": true
    },
    "kernelspec": {
      "display_name": "Python 3",
      "name": "python3"
    },
    "language_info": {
      "name": "python",
      "version": "3.10.5"
    }
  },
  "nbformat": 4,
  "nbformat_minor": 0
}